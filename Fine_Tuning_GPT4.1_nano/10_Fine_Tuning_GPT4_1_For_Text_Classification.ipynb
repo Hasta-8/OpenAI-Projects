{
  "nbformat": 4,
  "nbformat_minor": 0,
  "metadata": {
    "colab": {
      "provenance": []
    },
    "kernelspec": {
      "name": "python3",
      "display_name": "Python 3"
    },
    "language_info": {
      "name": "python"
    }
  },
  "cells": [
    {
      "cell_type": "markdown",
      "metadata": {
        "id": "72af8038"
      },
      "source": [
        "This notebook demonstrates how to fine-tune a GPT model using the OpenAI API for a text classification task. Specifically, it trains a model to classify text as either \"baseball\" or \"hockey\" news.\n",
        "\n",
        "The notebook performs the following steps:\n",
        "\n",
        "1.  **Installs Dependencies**: Installs necessary libraries like `openai`, `tiktoken`, `pandas`, and `scikit-learn`.\n",
        "2.  **Imports and Client Setup**: Imports required modules and sets up the OpenAI client using an API key.\n",
        "3.  **Loads and Prepares Dataset**: Fetches the 20 Newsgroups dataset, filtering for baseball and hockey categories. It then splits the data into training and validation sets.\n",
        "4.  **Saves JSONL in Chat Format**: Formats the training and validation data into a JSONL file suitable for fine-tuning, following the chat message format expected by the OpenAI API.\n",
        "5.  **Uploads Files to OpenAI**: Uploads the prepared JSONL files to OpenAI's servers for use in the fine-tuning job.\n",
        "6.  **Creates Fine-tuning Job**: Initiates a fine-tuning job on a specified model (e.g., `gpt-4.1-nano-2025-04-14`) using the uploaded training and validation files.\n",
        "7.  **Inference after Fine-tuning**: Shows how to use the fine-tuned model for inference on a new piece of text.\n",
        "8.  **Evaluation After completion of Fine Tuning**: Evaluates the performance of the fine-tuned model against the base model using accuracy on the validation set.\n",
        "\n",
        "In the end the increase in accuracy was 15%. Fine Tuning was done for 8 epochs."
      ]
    },
    {
      "cell_type": "code",
      "source": [
        "# ==========================================\n",
        "# 1. Install dependencies\n",
        "# ==========================================\n",
        "!pip install -q --upgrade openai tiktoken\n",
        "!pip install -q pandas==2.2.2 scikit-learn==1.6.1"
      ],
      "metadata": {
        "id": "ADdBCSHZXDz1"
      },
      "execution_count": 1,
      "outputs": []
    },
    {
      "cell_type": "code",
      "source": [
        "# ==========================================\n",
        "# 2. Imports & client setup\n",
        "# ==========================================\n",
        "import os\n",
        "import json\n",
        "from sklearn.datasets import fetch_20newsgroups\n",
        "from sklearn.model_selection import train_test_split\n",
        "from openai import OpenAI\n",
        "from google.colab import userdata\n",
        "from tqdm import tqdm"
      ],
      "metadata": {
        "id": "Zhx4SOrgXIlo"
      },
      "execution_count": 2,
      "outputs": []
    },
    {
      "cell_type": "code",
      "source": [
        "# Securely prompt for API key\n",
        "os.environ[\"OPENAI_API_KEY\"] = userdata.get('OPENAI_API_KEY')\n",
        "\n",
        "# Initialize client\n",
        "client = OpenAI()"
      ],
      "metadata": {
        "id": "hJWCjQenXKRu"
      },
      "execution_count": 4,
      "outputs": []
    },
    {
      "cell_type": "code",
      "source": [
        "# ==========================================\n",
        "# 3. Load & prepare dataset\n",
        "# ==========================================\n",
        "# We'll filter to baseball and hockey newsgroups\n",
        "categories = ['rec.sport.baseball', 'rec.sport.hockey']\n",
        "newsgroups = fetch_20newsgroups(subset='all', categories=categories, remove=('headers', 'footers', 'quotes'))\n",
        "\n",
        "texts = newsgroups.data\n",
        "labels = newsgroups.target  # 0 = baseball, 1 = hockey\n",
        "\n",
        "# Train/validation split\n",
        "train_texts, valid_texts, train_labels, valid_labels = train_test_split(\n",
        "    texts, labels, train_size=300, test_size=100, random_state=42, stratify=labels\n",
        ")\n",
        "\n",
        "print(\"Train set size:\", len(train_texts))\n",
        "print(\"Validation set size:\", len(valid_texts))"
      ],
      "metadata": {
        "colab": {
          "base_uri": "https://localhost:8080/"
        },
        "id": "ONagLb2RXRlD",
        "outputId": "50ac7c23-db35-4dcd-d9b2-8c2ccee09b83"
      },
      "execution_count": 6,
      "outputs": [
        {
          "output_type": "stream",
          "name": "stdout",
          "text": [
            "Train set size: 300\n",
            "Validation set size: 100\n"
          ]
        }
      ]
    },
    {
      "cell_type": "code",
      "source": [
        "# ==========================================\n",
        "# 4. Save JSONL in chat format for GPT-3.5\n",
        "# ==========================================\n",
        "def save_jsonl(filename, texts, labels):\n",
        "    with open(filename, \"w\") as f:\n",
        "        for text, label in zip(texts, labels):\n",
        "            label_name = \"baseball\" if label == 0 else \"hockey\"\n",
        "            record = {\n",
        "                \"messages\": [\n",
        "                    {\"role\": \"system\", \"content\": \"You are a classifier that predicts baseball or hockey.\"},\n",
        "                    {\"role\": \"user\", \"content\": text.strip()},\n",
        "                    {\"role\": \"assistant\", \"content\": label_name}\n",
        "                ]\n",
        "            }\n",
        "            f.write(json.dumps(record) + \"\\n\")\n",
        "\n",
        "save_jsonl(\"train.jsonl\", train_texts, train_labels)\n",
        "save_jsonl(\"valid.jsonl\", valid_texts, valid_labels)\n",
        "\n",
        "print(\"✅ Training and validation files saved.\")"
      ],
      "metadata": {
        "colab": {
          "base_uri": "https://localhost:8080/"
        },
        "id": "VOvdl13yXUtz",
        "outputId": "e64a90c0-952d-4cef-fb01-2b5882835c0d"
      },
      "execution_count": 7,
      "outputs": [
        {
          "output_type": "stream",
          "name": "stdout",
          "text": [
            "✅ Training and validation files saved.\n"
          ]
        }
      ]
    },
    {
      "cell_type": "code",
      "source": [
        "# ==========================================\n",
        "# 5. Upload files to OpenAI\n",
        "# ==========================================\n",
        "train_file = client.files.create(file=open(\"train.jsonl\", \"rb\"), purpose=\"fine-tune\")\n",
        "valid_file = client.files.create(file=open(\"valid.jsonl\", \"rb\"), purpose=\"fine-tune\")\n",
        "\n",
        "print(\"Train file ID:\", train_file.id)\n",
        "print(\"Valid file ID:\", valid_file.id)"
      ],
      "metadata": {
        "colab": {
          "base_uri": "https://localhost:8080/"
        },
        "id": "-75NbB22XXLl",
        "outputId": "ef295ce7-1efc-403e-cca6-782ae84ec1e4"
      },
      "execution_count": 8,
      "outputs": [
        {
          "output_type": "stream",
          "name": "stdout",
          "text": [
            "Train file ID: file-M4KfhmfZuaMZundzkUbYWv\n",
            "Valid file ID: file-2Zeygj5biKYsk9ipfyXq9b\n"
          ]
        }
      ]
    },
    {
      "cell_type": "code",
      "source": [
        "# ==========================================\n",
        "# 6. Create fine-tuning job\n",
        "# ==========================================\n",
        "job = client.fine_tuning.jobs.create(\n",
        "    training_file=train_file.id,\n",
        "    validation_file=valid_file.id,\n",
        "    model=\"gpt-4.1-nano-2025-04-14\",\n",
        "    suffix=\"baseball-hockey\",\n",
        "    hyperparameters={\n",
        "        \"n_epochs\": 2\n",
        "    }\n",
        ")\n",
        "\n",
        "print(\"Fine-tune job ID:\", job.id)"
      ],
      "metadata": {
        "id": "2MagtUMrXaQg"
      },
      "execution_count": null,
      "outputs": []
    },
    {
      "cell_type": "code",
      "source": [
        "# You can monitor progress in the OpenAI dashboard:\n",
        "# https://platform.openai.com/finetune\n",
        "\n",
        "# ==========================================\n",
        "# 7. Inference after fine-tuning (replace MODEL_ID)\n",
        "# ==========================================\n",
        "# After training completes, you'll get a model like:\n",
        "# ft:gpt-3.5-turbo:your-org:baseball-hockey:xxxx-xx-xx-xx-xx\n",
        "FT_MODEL = \"ft:gpt-4.1-nano-2025-04-14:debadri:baseball-hockey:C3fSa9ai\"\n",
        "\n",
        "test_text = \"The team won the series after hitting two home runs.\"\n",
        "resp = client.chat.completions.create(\n",
        "    model=FT_MODEL,\n",
        "    messages=[\n",
        "        {\"role\": \"system\", \"content\": \"You are a classifier that predicts baseball or hockey.\"},\n",
        "        {\"role\": \"user\", \"content\": test_text}\n",
        "    ]\n",
        ")\n",
        "print(\"Prediction:\", resp.choices[0].message.content)"
      ],
      "metadata": {
        "id": "KO8pdK-DXB4m",
        "colab": {
          "base_uri": "https://localhost:8080/"
        },
        "outputId": "3b711b46-c8b5-4a95-8ce8-2742adb8c53e"
      },
      "execution_count": null,
      "outputs": [
        {
          "output_type": "stream",
          "name": "stdout",
          "text": [
            "Prediction: baseball\n"
          ]
        }
      ]
    },
    {
      "cell_type": "code",
      "source": [
        "# ==========================================\n",
        "# 8. Evaluation After completion of Fine Tuning\n",
        "# ==========================================\n",
        "\n",
        "from sklearn.metrics import accuracy_score\n",
        "\n",
        "# Your fine-tuned model name from job completion\n",
        "FT_MODEL = \"ft:gpt-4.1-nano-2025-04-14:debadri:baseball-hockey:C3fSa9ai\"  # Replace with actual\n",
        "\n",
        "# Base model (untrained)\n",
        "BASE_MODEL = \"gpt-4.1-nano-2025-04-14\"\n",
        "\n",
        "# Load validation dataset\n",
        "val_data = []\n",
        "with open(\"valid.jsonl\", \"r\") as f:\n",
        "    for line in f:\n",
        "        val_data.append(json.loads(line))\n",
        "\n",
        "def evaluate_model(model_name):\n",
        "    \"\"\"Evaluate a given model on the validation set and return predictions + accuracy.\"\"\"\n",
        "    y_true = []\n",
        "    y_pred = []\n",
        "\n",
        "    for example in tqdm(val_data, desc=f\"Evaluating {model_name}\"):\n",
        "        prompt = example[\"messages\"][0][\"content\"]\n",
        "        actual_label = example[\"messages\"][-1][\"content\"]\n",
        "        y_true.append(actual_label.strip().lower())\n",
        "\n",
        "        response = client.chat.completions.create(\n",
        "            model=model_name,\n",
        "            messages=[\n",
        "                {\"role\": \"system\", \"content\": \"Classify the text as 'baseball' or 'hockey'.\"},\n",
        "                {\"role\": \"user\", \"content\": prompt}\n",
        "            ],\n",
        "            temperature=0\n",
        "        )\n",
        "\n",
        "        prediction = response.choices[0].message.content.strip().lower()\n",
        "        y_pred.append(prediction)\n",
        "\n",
        "    acc = accuracy_score(y_true, y_pred)\n",
        "    return acc\n",
        "\n",
        "# Evaluate both models\n",
        "acc_ft = evaluate_model(FT_MODEL)\n",
        "acc_base = evaluate_model(BASE_MODEL)\n",
        "\n",
        "# Compare results\n",
        "print(f\"Fine-tuned model accuracy: {acc_ft*100:.2f}%\")\n",
        "print(f\"Base model accuracy: {acc_base*100:.2f}%\")\n",
        "print(f\"Accuracy improvement: {(acc_ft - acc_base)*100:.2f}%\")"
      ],
      "metadata": {
        "id": "2OK6xbZQfYXB",
        "colab": {
          "base_uri": "https://localhost:8080/"
        },
        "outputId": "f7f527c3-ea1f-4363-f839-519c9006b7ea"
      },
      "execution_count": 9,
      "outputs": [
        {
          "output_type": "stream",
          "name": "stderr",
          "text": [
            "Evaluating ft:gpt-4.1-nano-2025-04-14:debadri:baseball-hockey:C3fSa9ai: 100%|██████████| 100/100 [00:58<00:00,  1.72it/s]\n",
            "Evaluating gpt-4.1-nano-2025-04-14: 100%|██████████| 100/100 [00:40<00:00,  2.48it/s]"
          ]
        },
        {
          "output_type": "stream",
          "name": "stdout",
          "text": [
            "Fine-tuned model accuracy: 50.00%\n",
            "Base model accuracy: 50.00%\n",
            "Accuracy improvement: 0.00%\n"
          ]
        },
        {
          "output_type": "stream",
          "name": "stderr",
          "text": [
            "\n"
          ]
        }
      ]
    },
    {
      "cell_type": "code",
      "source": [],
      "metadata": {
        "id": "BWP8r7P5fAil"
      },
      "execution_count": null,
      "outputs": []
    }
  ]
}